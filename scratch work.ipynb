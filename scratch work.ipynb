{
 "cells": [
  {
   "cell_type": "markdown",
   "source": [
    "### Here is where i can breakdown code and trouble shoot it piece by piece"
   ],
   "metadata": {
    "collapsed": false
   },
   "id": "5281f71ab3370c5d"
  },
  {
   "cell_type": "code",
   "execution_count": 1,
   "outputs": [],
   "source": [
    "import tkinter as tk\n",
    "from tkinter import messagebox\n",
    "import mysql.connector\n",
    "from env import username, password, host_name, database\n"
   ],
   "metadata": {
    "collapsed": false,
    "ExecuteTime": {
     "end_time": "2023-08-01T19:00:57.115539Z",
     "start_time": "2023-08-01T19:00:57.044704Z"
    }
   },
   "id": "7c9d6548d7482995"
  },
  {
   "cell_type": "code",
   "execution_count": 4,
   "outputs": [],
   "source": [
    "def get_conx():\n",
    "    cnx = mysql.connector.connect(user=username, password=password, host=host_name, database=database)\n",
    "\n",
    "    return cnx\n",
    "\n",
    "def query_database(query):\n",
    "    # Obtain a connection\n",
    "    cnx = get_conx()\n",
    "\n",
    "    # Create a new cursor\n",
    "    cursor = cnx.cursor()\n",
    "\n",
    "    # Execute the query\n",
    "    cursor.execute(query)\n",
    "\n",
    "    # Fetch all the rows\n",
    "    results = cursor.fetchall()\n",
    "\n",
    "    # Close the cursor and connection\n",
    "    cursor.close()\n",
    "    cnx.close()\n",
    "\n",
    "    return results"
   ],
   "metadata": {
    "collapsed": false,
    "ExecuteTime": {
     "end_time": "2023-08-01T19:01:54.687952Z",
     "start_time": "2023-08-01T19:01:54.685271Z"
    }
   },
   "id": "4746e35b76d31b8"
  },
  {
   "cell_type": "code",
   "execution_count": 6,
   "outputs": [],
   "source": [
    "query = \"SELECT * FROM employees_login\"\n",
    "return_results = query_database(query)"
   ],
   "metadata": {
    "collapsed": false,
    "ExecuteTime": {
     "end_time": "2023-08-01T19:03:02.174652Z",
     "start_time": "2023-08-01T19:03:01.653947Z"
    }
   },
   "id": "901f29957d322aae"
  },
  {
   "cell_type": "code",
   "execution_count": 14,
   "outputs": [],
   "source": [
    "return_results[0][3]"
   ],
   "metadata": {
    "collapsed": false,
    "ExecuteTime": {
     "end_time": "2023-08-01T19:04:57.802935Z",
     "start_time": "2023-08-01T19:04:57.797951Z"
    }
   },
   "id": "61b3d0be49ebbd5d"
  },
  {
   "cell_type": "code",
   "execution_count": null,
   "outputs": [],
   "source": [],
   "metadata": {
    "collapsed": false
   },
   "id": "989e1c3c21c0804f"
  }
 ],
 "metadata": {
  "kernelspec": {
   "display_name": "Python 3",
   "language": "python",
   "name": "python3"
  },
  "language_info": {
   "codemirror_mode": {
    "name": "ipython",
    "version": 2
   },
   "file_extension": ".py",
   "mimetype": "text/x-python",
   "name": "python",
   "nbconvert_exporter": "python",
   "pygments_lexer": "ipython2",
   "version": "2.7.6"
  }
 },
 "nbformat": 4,
 "nbformat_minor": 5
}
